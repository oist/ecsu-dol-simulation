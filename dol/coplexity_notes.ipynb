{
 "cells": [
  {
   "cell_type": "code",
   "execution_count": 2,
   "id": "everyday-coverage",
   "metadata": {},
   "outputs": [],
   "source": [
    "import numpy as np"
   ]
  },
  {
   "cell_type": "code",
   "execution_count": 6,
   "id": "thick-publication",
   "metadata": {},
   "outputs": [
    {
     "data": {
      "text/plain": [
       "0.0014152840900585478"
      ]
     },
     "execution_count": 6,
     "metadata": {},
     "output_type": "execute_result"
    }
   ],
   "source": [
    "num_data_points = 500\n",
    "num_nodes = 6\n",
    "data = np.random.uniform(-1,1,size=(num_nodes, num_data_points))\n",
    "cov_matrix = np.cov(data)\n",
    "cov_det = np.linalg.det(cov_matrix)\n",
    "cov_det"
   ]
  }
 ],
 "metadata": {
  "kernelspec": {
   "display_name": "Python 3",
   "language": "python",
   "name": "python3"
  },
  "language_info": {
   "codemirror_mode": {
    "name": "ipython",
    "version": 3
   },
   "file_extension": ".py",
   "mimetype": "text/x-python",
   "name": "python",
   "nbconvert_exporter": "python",
   "pygments_lexer": "ipython3",
   "version": "3.7.3"
  }
 },
 "nbformat": 4,
 "nbformat_minor": 5
}
